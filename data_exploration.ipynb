{
 "cells": [
  {
   "cell_type": "markdown",
   "metadata": {},
   "source": [
    "# Data exploration"
   ]
  },
  {
   "cell_type": "markdown",
   "metadata": {},
   "source": [
    "### Setup"
   ]
  },
  {
   "cell_type": "code",
   "execution_count": null,
   "metadata": {},
   "outputs": [],
   "source": [
    "!pip install -r requirements.txt"
   ]
  },
  {
   "cell_type": "markdown",
   "metadata": {},
   "source": [
    "### Getting data from s3"
   ]
  },
  {
   "cell_type": "code",
   "execution_count": 3,
   "metadata": {},
   "outputs": [],
   "source": [
    "import pandas as pd\n",
    "import numpy as np\n",
    "import awswrangler as wr\n",
    "import matplotlib.pyplot as plt"
   ]
  },
  {
   "cell_type": "code",
   "execution_count": 4,
   "metadata": {},
   "outputs": [
    {
     "name": "stdout",
     "output_type": "stream",
     "text": [
      "<class 'pandas.core.frame.DataFrame'>\n",
      "RangeIndex: 21960 entries, 0 to 21959\n",
      "Data columns (total 12 columns):\n",
      " #   Column                   Non-Null Count  Dtype  \n",
      "---  ------                   --------------  -----  \n",
      " 0   postcode                 21960 non-null  object \n",
      " 1   bedrooms                 21960 non-null  int64  \n",
      " 2   main_type                21960 non-null  object \n",
      " 3   second_level_type        21938 non-null  object \n",
      " 4   footprint_area_sqm       21951 non-null  float64\n",
      " 5   abshmin                  21943 non-null  float64\n",
      " 6   absh2                    21941 non-null  float64\n",
      " 7   abshmax                  21943 non-null  float64\n",
      " 8   relh2                    21941 non-null  float64\n",
      " 9   relhmax                  21943 non-null  float64\n",
      " 10  internal_floor_area_sqm  21806 non-null  float64\n",
      " 11  chain_1_hash             17152 non-null  object \n",
      "dtypes: float64(7), int64(1), object(4)\n",
      "memory usage: 2.0+ MB\n"
     ]
    }
   ],
   "source": [
    "bucket_name = 'ds-benedict-tmp'\n",
    "file_name = 'ds_interview_data.csv'\n",
    "file_path = f's3://{bucket_name}/{file_name}'\n",
    "\n",
    "df = wr.s3.read_csv(file_path)\n",
    "df.info()"
   ]
  },
  {
   "cell_type": "markdown",
   "metadata": {},
   "source": [
    "### Ideas for investigation\n",
    "- [x] Check for Null values\n",
    "    - There are quite a few missing values in **chain_1_hash** (we can keep it along until observing its informativeness else we can drop this column. \n",
    "    - For other columns nan values are low proportion of total so we can potentially just drop nan rows from these columns for simplicity\n",
    "- [x] Check for correlated features and drop some of them\n",
    "- [x] Check feature information (considering classification task)\n",
    "- [x] Target variable analysis (considering classification task), verify correct stratification\n",
    "- [ ] Start with low penalisation on parametric models as they may naturally underfit on this sufficiently large dataset\n",
    "- [ ] Check for feature importance \n",
    "- [ ] Try RFECV (Poisson regression)\n",
    "- [ ] Try Boosting and check feature importance. Compare with previous results"
   ]
  },
  {
   "cell_type": "code",
   "execution_count": 5,
   "metadata": {},
   "outputs": [],
   "source": [
    "target = 'bedrooms'\n",
    "features = df.columns.difference([target])\n",
    "\n",
    "df_non_na = df.dropna(subset=features.difference(['chain_1_hash'])) # Drop na values using all feature columns except chain_1_hash\n",
    "X,y = df_non_na[features], df_non_na[target]"
   ]
  },
  {
   "cell_type": "markdown",
   "metadata": {},
   "source": [
    "### Checking correlation between features (using numeric features only)\n",
    "\n",
    "We can identify collinearity between features and drop some of them to avoid instabilities in the models later on"
   ]
  },
  {
   "cell_type": "code",
   "execution_count": 6,
   "metadata": {},
   "outputs": [
    {
     "name": "stderr",
     "output_type": "stream",
     "text": [
      "findfont: Font family ['sans-serif'] not found. Falling back to DejaVu Sans.\n",
      "findfont: Font family ['sans-serif'] not found. Falling back to DejaVu Sans.\n"
     ]
    },
    {
     "data": {
      "image/png": "[encoded data removed]",
      "text/plain": [
       "<Figure size 576x396 with 2 Axes>"
      ]
     },
     "metadata": {},
     "output_type": "display_data"
    },
    {
     "data": {
      "text/html": [
       "<div>\n",
       "<style scoped>\n",
       "    .dataframe tbody tr th:only-of-type {\n",
       "        vertical-align: middle;\n",
       "    }\n",
       "\n",
       "    .dataframe tbody tr th {\n",
       "        vertical-align: top;\n",
       "    }\n",
       "\n",
       "    .dataframe thead th {\n",
       "        text-align: right;\n",
       "    }\n",
       "</style>\n",
       "<table border=\"1\" class=\"dataframe\">\n",
       "  <thead>\n",
       "    <tr style=\"text-align: right;\">\n",
       "      <th></th>\n",
       "      <th>absh2</th>\n",
       "      <th>abshmax</th>\n",
       "      <th>abshmin</th>\n",
       "      <th>footprint_area_sqm</th>\n",
       "      <th>internal_floor_area_sqm</th>\n",
       "      <th>relh2</th>\n",
       "      <th>relhmax</th>\n",
       "    </tr>\n",
       "  </thead>\n",
       "  <tbody>\n",
       "    <tr>\n",
       "      <th>0</th>\n",
       "      <td>29.7</td>\n",
       "      <td>30.7</td>\n",
       "      <td>18.1</td>\n",
       "      <td>95.26830</td>\n",
       "      <td>81.0</td>\n",
       "      <td>11.6</td>\n",
       "      <td>12.6</td>\n",
       "    </tr>\n",
       "    <tr>\n",
       "      <th>1</th>\n",
       "      <td>25.1</td>\n",
       "      <td>28.8</td>\n",
       "      <td>18.2</td>\n",
       "      <td>67.70440</td>\n",
       "      <td>165.0</td>\n",
       "      <td>6.9</td>\n",
       "      <td>10.6</td>\n",
       "    </tr>\n",
       "    <tr>\n",
       "      <th>2</th>\n",
       "      <td>25.3</td>\n",
       "      <td>29.0</td>\n",
       "      <td>18.4</td>\n",
       "      <td>84.70275</td>\n",
       "      <td>184.0</td>\n",
       "      <td>6.9</td>\n",
       "      <td>10.6</td>\n",
       "    </tr>\n",
       "    <tr>\n",
       "      <th>3</th>\n",
       "      <td>24.2</td>\n",
       "      <td>28.7</td>\n",
       "      <td>18.5</td>\n",
       "      <td>89.63606</td>\n",
       "      <td>218.0</td>\n",
       "      <td>5.7</td>\n",
       "      <td>10.2</td>\n",
       "    </tr>\n",
       "    <tr>\n",
       "      <th>4</th>\n",
       "      <td>25.3</td>\n",
       "      <td>28.8</td>\n",
       "      <td>18.7</td>\n",
       "      <td>71.91312</td>\n",
       "      <td>172.0</td>\n",
       "      <td>6.6</td>\n",
       "      <td>10.1</td>\n",
       "    </tr>\n",
       "    <tr>\n",
       "      <th>...</th>\n",
       "      <td>...</td>\n",
       "      <td>...</td>\n",
       "      <td>...</td>\n",
       "      <td>...</td>\n",
       "      <td>...</td>\n",
       "      <td>...</td>\n",
       "      <td>...</td>\n",
       "    </tr>\n",
       "    <tr>\n",
       "      <th>21955</th>\n",
       "      <td>16.4</td>\n",
       "      <td>18.1</td>\n",
       "      <td>9.5</td>\n",
       "      <td>81.66702</td>\n",
       "      <td>68.0</td>\n",
       "      <td>6.9</td>\n",
       "      <td>8.6</td>\n",
       "    </tr>\n",
       "    <tr>\n",
       "      <th>21956</th>\n",
       "      <td>18.5</td>\n",
       "      <td>22.0</td>\n",
       "      <td>13.6</td>\n",
       "      <td>85.30910</td>\n",
       "      <td>66.0</td>\n",
       "      <td>4.9</td>\n",
       "      <td>8.4</td>\n",
       "    </tr>\n",
       "    <tr>\n",
       "      <th>21957</th>\n",
       "      <td>28.9</td>\n",
       "      <td>31.0</td>\n",
       "      <td>19.0</td>\n",
       "      <td>68.82183</td>\n",
       "      <td>60.0</td>\n",
       "      <td>9.9</td>\n",
       "      <td>12.0</td>\n",
       "    </tr>\n",
       "    <tr>\n",
       "      <th>21958</th>\n",
       "      <td>28.4</td>\n",
       "      <td>31.7</td>\n",
       "      <td>22.4</td>\n",
       "      <td>86.00033</td>\n",
       "      <td>64.0</td>\n",
       "      <td>6.0</td>\n",
       "      <td>9.3</td>\n",
       "    </tr>\n",
       "    <tr>\n",
       "      <th>21959</th>\n",
       "      <td>30.5</td>\n",
       "      <td>33.2</td>\n",
       "      <td>20.7</td>\n",
       "      <td>55.52999</td>\n",
       "      <td>47.0</td>\n",
       "      <td>9.8</td>\n",
       "      <td>12.5</td>\n",
       "    </tr>\n",
       "  </tbody>\n",
       "</table>\n",
       "<p>21768 rows × 7 columns</p>\n",
       "</div>"
      ],
      "text/plain": [
       "       absh2  abshmax  abshmin  footprint_area_sqm  internal_floor_area_sqm  \\\n",
       "0       29.7     30.7     18.1            95.26830                     81.0   \n",
       "1       25.1     28.8     18.2            67.70440                    165.0   \n",
       "2       25.3     29.0     18.4            84.70275                    184.0   \n",
       "3       24.2     28.7     18.5            89.63606                    218.0   \n",
       "4       25.3     28.8     18.7            71.91312                    172.0   \n",
       "...      ...      ...      ...                 ...                      ...   \n",
       "21955   16.4     18.1      9.5            81.66702                     68.0   \n",
       "21956   18.5     22.0     13.6            85.30910                     66.0   \n",
       "21957   28.9     31.0     19.0            68.82183                     60.0   \n",
       "21958   28.4     31.7     22.4            86.00033                     64.0   \n",
       "21959   30.5     33.2     20.7            55.52999                     47.0   \n",
       "\n",
       "       relh2  relhmax  \n",
       "0       11.6     12.6  \n",
       "1        6.9     10.6  \n",
       "2        6.9     10.6  \n",
       "3        5.7     10.2  \n",
       "4        6.6     10.1  \n",
       "...      ...      ...  \n",
       "21955    6.9      8.6  \n",
       "21956    4.9      8.4  \n",
       "21957    9.9     12.0  \n",
       "21958    6.0      9.3  \n",
       "21959    9.8     12.5  \n",
       "\n",
       "[21768 rows x 7 columns]"
      ]
     },
     "execution_count": 6,
     "metadata": {},
     "output_type": "execute_result"
    }
   ],
   "source": [
    "from yellowbrick.features import Rank2D\n",
    "\n",
    "X_numeric_ = X.select_dtypes(np.double)\n",
    "visualizer = Rank2D(algorithm='pearson')\n",
    "visualizer.fit_transform_show(X_numeric_)\n"
   ]
  },
  {
   "cell_type": "markdown",
   "metadata": {},
   "source": [
    "- It makes sense that relh2 and relhmax are correlated and so are absh2 and abshmax. For these variables we can potentially just take one and drop the other \n",
    "- To a significant degree abshmin happens to be correlated with absh2 and abshmax. We can explore this in slight more detail before making a decision"
   ]
  },
  {
   "cell_type": "code",
   "execution_count": 7,
   "metadata": {},
   "outputs": [
    {
     "name": "stderr",
     "output_type": "stream",
     "text": [
      "findfont: Font family ['sans-serif'] not found. Falling back to DejaVu Sans.\n"
     ]
    },
    {
     "data": {
      "image/png": "[encoded data removed]",
      "text/plain": [
       "<Figure size 576x396 with 3 Axes>"
      ]
     },
     "metadata": {},
     "output_type": "display_data"
    },
    {
     "data": {
      "text/html": [
       "<div>\n",
       "<style scoped>\n",
       "    .dataframe tbody tr th:only-of-type {\n",
       "        vertical-align: middle;\n",
       "    }\n",
       "\n",
       "    .dataframe tbody tr th {\n",
       "        vertical-align: top;\n",
       "    }\n",
       "\n",
       "    .dataframe thead th {\n",
       "        text-align: right;\n",
       "    }\n",
       "</style>\n",
       "<table border=\"1\" class=\"dataframe\">\n",
       "  <thead>\n",
       "    <tr style=\"text-align: right;\">\n",
       "      <th></th>\n",
       "      <th>absh2</th>\n",
       "      <th>abshmax</th>\n",
       "      <th>abshmin</th>\n",
       "      <th>footprint_area_sqm</th>\n",
       "      <th>internal_floor_area_sqm</th>\n",
       "      <th>relh2</th>\n",
       "      <th>relhmax</th>\n",
       "    </tr>\n",
       "  </thead>\n",
       "  <tbody>\n",
       "    <tr>\n",
       "      <th>0</th>\n",
       "      <td>29.7</td>\n",
       "      <td>30.7</td>\n",
       "      <td>18.1</td>\n",
       "      <td>95.26830</td>\n",
       "      <td>81.0</td>\n",
       "      <td>11.6</td>\n",
       "      <td>12.6</td>\n",
       "    </tr>\n",
       "    <tr>\n",
       "      <th>1</th>\n",
       "      <td>25.1</td>\n",
       "      <td>28.8</td>\n",
       "      <td>18.2</td>\n",
       "      <td>67.70440</td>\n",
       "      <td>165.0</td>\n",
       "      <td>6.9</td>\n",
       "      <td>10.6</td>\n",
       "    </tr>\n",
       "    <tr>\n",
       "      <th>2</th>\n",
       "      <td>25.3</td>\n",
       "      <td>29.0</td>\n",
       "      <td>18.4</td>\n",
       "      <td>84.70275</td>\n",
       "      <td>184.0</td>\n",
       "      <td>6.9</td>\n",
       "      <td>10.6</td>\n",
       "    </tr>\n",
       "    <tr>\n",
       "      <th>3</th>\n",
       "      <td>24.2</td>\n",
       "      <td>28.7</td>\n",
       "      <td>18.5</td>\n",
       "      <td>89.63606</td>\n",
       "      <td>218.0</td>\n",
       "      <td>5.7</td>\n",
       "      <td>10.2</td>\n",
       "    </tr>\n",
       "    <tr>\n",
       "      <th>4</th>\n",
       "      <td>25.3</td>\n",
       "      <td>28.8</td>\n",
       "      <td>18.7</td>\n",
       "      <td>71.91312</td>\n",
       "      <td>172.0</td>\n",
       "      <td>6.6</td>\n",
       "      <td>10.1</td>\n",
       "    </tr>\n",
       "    <tr>\n",
       "      <th>...</th>\n",
       "      <td>...</td>\n",
       "      <td>...</td>\n",
       "      <td>...</td>\n",
       "      <td>...</td>\n",
       "      <td>...</td>\n",
       "      <td>...</td>\n",
       "      <td>...</td>\n",
       "    </tr>\n",
       "    <tr>\n",
       "      <th>21955</th>\n",
       "      <td>16.4</td>\n",
       "      <td>18.1</td>\n",
       "      <td>9.5</td>\n",
       "      <td>81.66702</td>\n",
       "      <td>68.0</td>\n",
       "      <td>6.9</td>\n",
       "      <td>8.6</td>\n",
       "    </tr>\n",
       "    <tr>\n",
       "      <th>21956</th>\n",
       "      <td>18.5</td>\n",
       "      <td>22.0</td>\n",
       "      <td>13.6</td>\n",
       "      <td>85.30910</td>\n",
       "      <td>66.0</td>\n",
       "      <td>4.9</td>\n",
       "      <td>8.4</td>\n",
       "    </tr>\n",
       "    <tr>\n",
       "      <th>21957</th>\n",
       "      <td>28.9</td>\n",
       "      <td>31.0</td>\n",
       "      <td>19.0</td>\n",
       "      <td>68.82183</td>\n",
       "      <td>60.0</td>\n",
       "      <td>9.9</td>\n",
       "      <td>12.0</td>\n",
       "    </tr>\n",
       "    <tr>\n",
       "      <th>21958</th>\n",
       "      <td>28.4</td>\n",
       "      <td>31.7</td>\n",
       "      <td>22.4</td>\n",
       "      <td>86.00033</td>\n",
       "      <td>64.0</td>\n",
       "      <td>6.0</td>\n",
       "      <td>9.3</td>\n",
       "    </tr>\n",
       "    <tr>\n",
       "      <th>21959</th>\n",
       "      <td>30.5</td>\n",
       "      <td>33.2</td>\n",
       "      <td>20.7</td>\n",
       "      <td>55.52999</td>\n",
       "      <td>47.0</td>\n",
       "      <td>9.8</td>\n",
       "      <td>12.5</td>\n",
       "    </tr>\n",
       "  </tbody>\n",
       "</table>\n",
       "<p>21768 rows × 7 columns</p>\n",
       "</div>"
      ],
      "text/plain": [
       "       absh2  abshmax  abshmin  footprint_area_sqm  internal_floor_area_sqm  \\\n",
       "0       29.7     30.7     18.1            95.26830                     81.0   \n",
       "1       25.1     28.8     18.2            67.70440                    165.0   \n",
       "2       25.3     29.0     18.4            84.70275                    184.0   \n",
       "3       24.2     28.7     18.5            89.63606                    218.0   \n",
       "4       25.3     28.8     18.7            71.91312                    172.0   \n",
       "...      ...      ...      ...                 ...                      ...   \n",
       "21955   16.4     18.1      9.5            81.66702                     68.0   \n",
       "21956   18.5     22.0     13.6            85.30910                     66.0   \n",
       "21957   28.9     31.0     19.0            68.82183                     60.0   \n",
       "21958   28.4     31.7     22.4            86.00033                     64.0   \n",
       "21959   30.5     33.2     20.7            55.52999                     47.0   \n",
       "\n",
       "       relh2  relhmax  \n",
       "0       11.6     12.6  \n",
       "1        6.9     10.6  \n",
       "2        6.9     10.6  \n",
       "3        5.7     10.2  \n",
       "4        6.6     10.1  \n",
       "...      ...      ...  \n",
       "21955    6.9      8.6  \n",
       "21956    4.9      8.4  \n",
       "21957    9.9     12.0  \n",
       "21958    6.0      9.3  \n",
       "21959    9.8     12.5  \n",
       "\n",
       "[21768 rows x 7 columns]"
      ]
     },
     "execution_count": 7,
     "metadata": {},
     "output_type": "execute_result"
    }
   ],
   "source": [
    "from yellowbrick.features import JointPlotVisualizer\n",
    "\n",
    "columns = ['absh2', 'abshmin']\n",
    "visualizer = JointPlotVisualizer(columns=columns)\n",
    "visualizer.fit_transform_show(X_numeric_,y)\n"
   ]
  },
  {
   "cell_type": "markdown",
   "metadata": {},
   "source": [
    "Looking at the plot it appears that `abshmin` encodes slightly more information than absh2 being bimodal so we can keep this and **drop absh2 and abshmax**. We will also keep `relhmax` and these both should approximately capture the effect of elevation and build height"
   ]
  },
  {
   "cell_type": "code",
   "execution_count": 8,
   "metadata": {},
   "outputs": [],
   "source": [
    "numeric_columns_to_drop = ['relh2', 'absh2', 'abshmax']\n",
    "numeric_features = X_numeric_.columns.difference(numeric_columns_to_drop)\n"
   ]
  },
  {
   "cell_type": "markdown",
   "metadata": {},
   "source": [
    "### Checking informativeness in features"
   ]
  },
  {
   "cell_type": "code",
   "execution_count": 9,
   "metadata": {},
   "outputs": [],
   "source": [
    "from sklearn.preprocessing import OneHotEncoder, OrdinalEncoder\n",
    "from sklearn.compose import ColumnTransformer\n",
    "\n",
    "X,y = df.dropna()[features], df.dropna()[target]\n",
    "\n",
    "high_cardinality_features = ['chain_1_hash', 'postcode']\n",
    "categorical_features = [f for f in df.select_dtypes(['object']).columns if (f not in high_cardinality_features)]\n",
    "\n",
    "one_hot_encoder = OneHotEncoder(handle_unknown='ignore')\n",
    "ordinal_encoder = OrdinalEncoder()\n",
    "\n",
    "column_transformer = ColumnTransformer([('numeric_data', 'passthrough', numeric_features), \n",
    "                                       ('categorical_data', one_hot_encoder, categorical_features),\n",
    "                                       ('high_cardinality_features', ordinal_encoder, high_cardinality_features)])\n",
    "\n",
    "Xt = column_transformer.fit_transform(X)"
   ]
  },
  {
   "cell_type": "code",
   "execution_count": 10,
   "metadata": {},
   "outputs": [
    {
     "data": {
      "text/plain": [
       "FeatureCorrelation(ax=<matplotlib.axes._subplots.AxesSubplot object at 0x7f5f666a4910>,\n",
       "                   color=None, feature_index=None, feature_names=None,\n",
       "                   labels=['abshmin', 'footprint_area_sqm',\n",
       "                           'internal_floor_area_sqm', 'relhmax', 'x0_FLA',\n",
       "                           'x0_HSE', 'x1_BLK', 'x1_CNV', 'x1_DET', 'x1_SEM',\n",
       "                           'x1_TERR', 'chain_1_hash', 'postcode'],\n",
       "                   method='mutual_info-classification', sort=False)"
      ]
     },
     "execution_count": 10,
     "metadata": {},
     "output_type": "execute_result"
    },
    {
     "data": {
      "image/png": "[encoded data removed]",
      "text/plain": [
       "<Figure size 576x396 with 1 Axes>"
      ]
     },
     "metadata": {},
     "output_type": "display_data"
    }
   ],
   "source": [
    "from yellowbrick.target import FeatureCorrelation\n",
    "\n",
    "feature_names = list(numeric_features) + list(column_transformer.named_transformers_['categorical_data'].get_feature_names()) + high_cardinality_features\n",
    "discrete = [False]*len(numeric_features) + [True]*(Xt.shape[1] - len(numeric_features))\n",
    "visualizer = FeatureCorrelation(method='mutual_info-classification', labels=feature_names)\n",
    "visualizer.fit(Xt, y, discrete_features=discrete, random_state=0)"
   ]
  },
  {
   "cell_type": "markdown",
   "metadata": {},
   "source": [
    "Earlier it was suggested that we may drop `chain_1_hash` because it has many NaN values which can't realistically be imputed. \n",
    "However, this column has much information about target variable and instead of losing all that information we prefer to model houses that do not have this information separately (or working with models that can incorporate missing values natively).\n",
    "This is also important because dropping *NaN* value rows on the basis of `chain_1_hash` removes data about **Detached** houses entirely (blank row on chart)."
   ]
  },
  {
   "cell_type": "markdown",
   "metadata": {},
   "source": [
    "### Target analysis\n",
    "\n",
    "Ideally for the nature of target variable (counts) we would approach the problem as some version of **Poisson regression**.\n",
    "However, it is important to not have an error of even single bedroom in our predictions means we can frame the problem as a classification problem and try to achieve high accuracy on the classification task."
   ]
  },
  {
   "cell_type": "code",
   "execution_count": 11,
   "metadata": {},
   "outputs": [
    {
     "data": {
      "image/png": "[encoded data removed]",
      "text/plain": [
       "<Figure size 576x396 with 1 Axes>"
      ]
     },
     "metadata": {},
     "output_type": "display_data"
    },
    {
     "name": "stdout",
     "output_type": "stream",
     "text": [
      "Unique values in target: \n",
      " 3     4619\n",
      "2     4605\n",
      "4     3676\n",
      "5     1860\n",
      "1     1738\n",
      "6      321\n",
      "0      120\n",
      "7       48\n",
      "8        7\n",
      "12       1\n",
      "9        1\n",
      "42       1\n",
      "Name: bedrooms, dtype: int64\n"
     ]
    }
   ],
   "source": [
    "from yellowbrick.target import ClassBalance\n",
    "\n",
    "visualizer = ClassBalance()\n",
    "visualizer.fit(y).show()\n",
    "print('Unique values in target: \\n', y.value_counts(sort=True))"
   ]
  },
  {
   "cell_type": "markdown",
   "metadata": {},
   "source": [
    "Because of the distribution of classes being non-uniform a proper train-test split should be used (Stratified for simplicity)"
   ]
  },
  {
   "cell_type": "code",
   "execution_count": 12,
   "metadata": {},
   "outputs": [
    {
     "data": {
      "image/png": "[encoded data removed]",
      "text/plain": [
       "<Figure size 576x396 with 1 Axes>"
      ]
     },
     "metadata": {},
     "output_type": "display_data"
    },
    {
     "data": {
      "text/plain": [
       "<matplotlib.axes._subplots.AxesSubplot at 0x7f5f7564e390>"
      ]
     },
     "execution_count": 12,
     "metadata": {},
     "output_type": "execute_result"
    }
   ],
   "source": [
    "from sklearn.model_selection import train_test_split\n",
    "\n",
    "yt = y.copy()\n",
    "yt.loc[y>6] = 7 # Need to label all the classes with single instances to some common value to allow stratified splits\n",
    "X_train, X_test, y_train, y_test = train_test_split(Xt, y,\n",
    "                                                    stratify=yt, \n",
    "                                                    test_size=0.25)\n",
    "    \n",
    "visualizer = ClassBalance()\n",
    "visualizer.fit(y_train, y_test).show()"
   ]
  },
  {
   "cell_type": "markdown",
   "metadata": {},
   "source": [
    "We appear to have a sensible split of training and test data and can progress to modelling from here."
   ]
  },
  {
   "cell_type": "markdown",
   "metadata": {},
   "source": [
    "### Modelling\n",
    "\n",
    "We can start with a simple model which we can consider as baseline and then build more complex models successively improving the scores\n",
    "\n",
    "**Assumptions**\n",
    "- Because we don't wan't to focus of any particular class we can just assume `accuracy` as a good metric to optimise"
   ]
  },
  {
   "cell_type": "code",
   "execution_count": null,
   "metadata": {},
   "outputs": [],
   "source": [
    "from sklearn.naive_bayes import BernoulliNB\n",
    "\n",
    "model = BernoulliNB"
   ]
  }
 ],
 "metadata": {
  "instance_type": "ml.t3.medium",
  "kernelspec": {
   "display_name": "Python 3 (Data Science)",
   "language": "python",
   "name": "python3__SAGEMAKER_INTERNAL__arn:aws:sagemaker:eu-west-2:712779665605:image/datascience-1.0"
  },
  "language_info": {
   "codemirror_mode": {
    "name": "ipython",
    "version": 3
   },
   "file_extension": ".py",
   "mimetype": "text/x-python",
   "name": "python",
   "nbconvert_exporter": "python",
   "pygments_lexer": "ipython3",
   "version": "3.7.10"
  }
 },
 "nbformat": 4,
 "nbformat_minor": 4
}

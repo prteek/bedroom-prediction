{
 "cells": [
  {
   "cell_type": "markdown",
   "metadata": {},
   "source": [
    "# Data exploration"
   ]
  },
  {
   "cell_type": "code",
   "execution_count": null,
   "metadata": {},
   "outputs": [],
   "source": [
    "### Setup\n",
    "!pip install -r requirements.txt"
   ]
  },
  {
   "cell_type": "code",
   "execution_count": 20,
   "metadata": {},
   "outputs": [],
   "source": [
    "import pandas as pd\n",
    "import awswrangler as wr\n",
    "import matplotlib.pyplot as plt"
   ]
  },
  {
   "cell_type": "markdown",
   "metadata": {},
   "source": [
    "### Getting data from s3"
   ]
  },
  {
   "cell_type": "code",
   "execution_count": 37,
   "metadata": {},
   "outputs": [
    {
     "name": "stdout",
     "output_type": "stream",
     "text": [
      "<class 'pandas.core.frame.DataFrame'>\n",
      "RangeIndex: 21960 entries, 0 to 21959\n",
      "Data columns (total 12 columns):\n",
      " #   Column                   Non-Null Count  Dtype  \n",
      "---  ------                   --------------  -----  \n",
      " 0   postcode                 21960 non-null  object \n",
      " 1   bedrooms                 21960 non-null  int64  \n",
      " 2   main_type                21960 non-null  object \n",
      " 3   second_level_type        21938 non-null  object \n",
      " 4   footprint_area_sqm       21951 non-null  float64\n",
      " 5   abshmin                  21943 non-null  float64\n",
      " 6   absh2                    21941 non-null  float64\n",
      " 7   abshmax                  21943 non-null  float64\n",
      " 8   relh2                    21941 non-null  float64\n",
      " 9   relhmax                  21943 non-null  float64\n",
      " 10  internal_floor_area_sqm  21806 non-null  float64\n",
      " 11  chain_1_hash             17152 non-null  object \n",
      "dtypes: float64(7), int64(1), object(4)\n",
      "memory usage: 2.0+ MB\n"
     ]
    }
   ],
   "source": [
    "bucket_name = 'ds-benedict-tmp'\n",
    "file_name = 'ds_interview_data.csv'\n",
    "file_path = f's3://{bucket_name}/{file_name}'\n",
    "\n",
    "df = wr.s3.read_csv(file_path)\n",
    "df.info()"
   ]
  },
  {
   "cell_type": "code",
   "execution_count": null,
   "metadata": {},
   "outputs": [],
   "source": []
  }
 ],
 "metadata": {
  "instance_type": "ml.t3.medium",
  "kernelspec": {
   "display_name": "Python 3 (Data Science)",
   "language": "python",
   "name": "python3__SAGEMAKER_INTERNAL__arn:aws:sagemaker:eu-west-2:712779665605:image/datascience-1.0"
  },
  "language_info": {
   "codemirror_mode": {
    "name": "ipython",
    "version": 3
   },
   "file_extension": ".py",
   "mimetype": "text/x-python",
   "name": "python",
   "nbconvert_exporter": "python",
   "pygments_lexer": "ipython3",
   "version": "3.7.10"
  }
 },
 "nbformat": 4,
 "nbformat_minor": 4
}
